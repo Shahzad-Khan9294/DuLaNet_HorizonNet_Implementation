{
 "cells": [
  {
   "cell_type": "code",
   "execution_count": null,
   "id": "811faddf",
   "metadata": {},
   "outputs": [],
   "source": [
    "# Make Env using python pakage : python 3.7  -- EnvName [pano_ann_env]\n",
    "\"\"\"\n",
    "# Core Python packages\n",
    "pip install numpy==1.19.5 \\\n",
    "            scipy==1.3.0 \\\n",
    "            scikit-learn==0.24.2 \\\n",
    "            pillow==8.4.0 \\\n",
    "            scikit-image==0.18.3 \\\n",
    "            tqdm==4.64.1 \\\n",
    "            tensorboardx==2.0 \\\n",
    "            opencv-python==4.2.0.32 \\\n",
    "            pylsd-nova==1.2.0 \\\n",
    "            open3d==0.13.0 \\\n",
    "            shapely==1.7.1 \\\n",
    "            matplotlib==3.3.4 \\\n",
    "            networkx==2.5 \\\n",
    "            imageio==2.9.0\n",
    "\n",
    "# PyTorch CPU-only\n",
    "pip install torch torchvision torchaudio --index-url https://download.pytorch.org/whl/cpu\n",
    "pip install GitPython\n",
    "\"\"\""
   ]
  },
  {
   "cell_type": "markdown",
   "id": "b39353fe",
   "metadata": {},
   "source": [
    "**Cloe Repos of DuLaNet & HorizonNet**"
   ]
  },
  {
   "cell_type": "code",
   "execution_count": 1,
   "id": "b6854395",
   "metadata": {},
   "outputs": [
    {
     "name": "stderr",
     "output_type": "stream",
     "text": [
      "Cloning into 'DuLa-Net'...\n"
     ]
    }
   ],
   "source": [
    "!git clone https://github.com/SunDaDenny/DuLa-Net.github       #In this repo main model check points are not avaiable"
   ]
  },
  {
   "cell_type": "code",
   "execution_count": 2,
   "id": "bd823df6",
   "metadata": {},
   "outputs": [
    {
     "name": "stderr",
     "output_type": "stream",
     "text": [
      "Cloning into 'HorizonNet'...\n"
     ]
    }
   ],
   "source": [
    "!git clone https://github.com/sunset1995/HorizonNet.git"
   ]
  },
  {
   "cell_type": "markdown",
   "id": "b1d9ac17",
   "metadata": {},
   "source": [
    "**HorizonNet - Set 360 degree room images in right orientation (all walls parallel/perpendicular)**"
   ]
  },
  {
   "cell_type": "code",
   "execution_count": 6,
   "id": "eb13dda3",
   "metadata": {},
   "outputs": [],
   "source": [
    "__file__ = \"C:\\\\Users\\\\aliya\\\\Desktop\\\\HorizonNet\\\\preprocess.py\""
   ]
  },
  {
   "cell_type": "code",
   "execution_count": 7,
   "id": "d68fdac5",
   "metadata": {},
   "outputs": [],
   "source": [
    "import sys\n",
    "import os\n",
    "sys.path.append(os.path.dirname(os.path.abspath(__file__)))"
   ]
  },
  {
   "cell_type": "code",
   "execution_count": 9,
   "id": "40f1c65b",
   "metadata": {},
   "outputs": [
    {
     "name": "stdout",
     "output_type": "stream",
     "text": [
      "C:\\Users\\aliya\\Desktop\\HorizonNet\n"
     ]
    }
   ],
   "source": [
    "%cd C:\\Users\\aliya\\Desktop\\HorizonNet"
   ]
  },
  {
   "cell_type": "code",
   "execution_count": 11,
   "id": "4943955a",
   "metadata": {},
   "outputs": [
    {
     "name": "stdout",
     "output_type": "stream",
     "text": [
      "Processing C:\\Users\\aliya\\Desktop\\dula_test_images\\room1.jpg\n",
      "Processing C:\\Users\\aliya\\Desktop\\dula_test_images\\room2.jpg\n",
      "Processing C:\\Users\\aliya\\Desktop\\dula_test_images\\room4.jpg\n"
     ]
    }
   ],
   "source": [
    "!python preprocess.py --img_glob \"C:\\Users\\aliya\\Desktop\\dula_test_images\\*.jpg\" --output_dir \"C:\\Users\\aliya\\Desktop\\aligned_ann_output\""
   ]
  },
  {
   "cell_type": "markdown",
   "id": "375ad708",
   "metadata": {},
   "source": [
    "**DuLaNet**"
   ]
  },
  {
   "cell_type": "code",
   "execution_count": 12,
   "id": "ba768bd1",
   "metadata": {},
   "outputs": [],
   "source": [
    "__file__dula = \"C:\\\\Users\\\\aliya\\\\Desktop\\\\DuLa-Net\\\\demo.py\""
   ]
  },
  {
   "cell_type": "code",
   "execution_count": 13,
   "id": "97b20c88",
   "metadata": {},
   "outputs": [],
   "source": [
    "import sys\n",
    "import os\n",
    "sys.path.append(os.path.dirname(os.path.abspath(__file__dula)))"
   ]
  },
  {
   "cell_type": "code",
   "execution_count": 14,
   "id": "df85917d",
   "metadata": {},
   "outputs": [
    {
     "name": "stdout",
     "output_type": "stream",
     "text": [
      "C:\\Users\\aliya\\Desktop\n"
     ]
    }
   ],
   "source": [
    "%cd .."
   ]
  },
  {
   "cell_type": "code",
   "execution_count": null,
   "id": "1d10a5ed",
   "metadata": {},
   "outputs": [],
   "source": [
    "%cd C:\\Users\\aliya\\Desktop\\DuLa-Net"
   ]
  },
  {
   "cell_type": "code",
   "execution_count": 30,
   "id": "f00390d0",
   "metadata": {},
   "outputs": [
    {
     "name": "stdout",
     "output_type": "stream",
     "text": [
      "predict\n"
     ]
    }
   ],
   "source": [
    "!python demo.py --input \"C:\\Users\\aliya\\Desktop\\aligned_ann_output\\room2_aligned_rgb.png\""
   ]
  },
  {
   "cell_type": "code",
   "execution_count": null,
   "id": "dcf34b88",
   "metadata": {},
   "outputs": [],
   "source": []
  }
 ],
 "metadata": {
  "kernelspec": {
   "display_name": "Python 3 (ipykernel)",
   "language": "python",
   "name": "python3"
  },
  "language_info": {
   "codemirror_mode": {
    "name": "ipython",
    "version": 3
   },
   "file_extension": ".py",
   "mimetype": "text/x-python",
   "name": "python",
   "nbconvert_exporter": "python",
   "pygments_lexer": "ipython3",
   "version": "3.7.16"
  }
 },
 "nbformat": 4,
 "nbformat_minor": 5
}
